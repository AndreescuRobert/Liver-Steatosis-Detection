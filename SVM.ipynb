{
 "cells": [
  {
   "cell_type": "code",
   "execution_count": 15,
   "source": [
    "import numpy as np\r\n",
    "from sklearn.metrics import classification_report, confusion_matrix\r\n",
    "from sklearn.svm import SVC\r\n",
    "from sklearn.model_selection import train_test_split\r\n",
    "import pandas as pd\r\n",
    "import matplotlib.pyplot as plt\r\n",
    "from sklearn.svm import SVC\r\n",
    "import numpy as np\r\n",
    "import matplotlib.pyplot as plt\r\n",
    "from sklearn import svm, datasets\r\n",
    "from mpl_toolkits.mplot3d import Axes3D\r\n",
    "\r\n",
    "\r\n",
    "data = pd.read_csv(\"data.csv\")\r\n",
    "\r\n",
    "X = data[:]\r\n",
    "#print(X)\r\n",
    "X = data.drop('class', axis=1)\r\n",
    "y = data['class']\r\n",
    "\r\n",
    "#print(X)\r\n",
    "X_train, X_test, y_train, y_test = train_test_split(X, y, test_size=0.20)\r\n",
    "svclassifier = SVC()\r\n",
    "clf = svclassifier.fit(X_train, y_train)\r\n",
    "y_pred = svclassifier.predict(X_test)\r\n",
    "print(confusion_matrix(y_test, y_pred))\r\n",
    "print(classification_report(y_test, y_pred))\r\n",
    "\r\n",
    "print(clf.score(X_test,y_test))\r\n",
    "\r\n",
    "print()\r\n"
   ],
   "outputs": [
    {
     "output_type": "stream",
     "name": "stdout",
     "text": [
      "[[  2 165]\n",
      " [  0 328]]\n",
      "              precision    recall  f1-score   support\n",
      "\n",
      "           0       1.00      0.01      0.02       167\n",
      "           1       0.67      1.00      0.80       328\n",
      "\n",
      "    accuracy                           0.67       495\n",
      "   macro avg       0.83      0.51      0.41       495\n",
      "weighted avg       0.78      0.67      0.54       495\n",
      "\n",
      "0.6666666666666666\n",
      "\n"
     ]
    }
   ],
   "metadata": {}
  }
 ],
 "metadata": {
  "interpreter": {
   "hash": "cf97baa4dd5f92678966ef7d807ed10c287594f59ad652e48d0e32acad9661ad"
  },
  "kernelspec": {
   "name": "python3",
   "display_name": "Python 3.7.9 64-bit"
  },
  "language_info": {
   "codemirror_mode": {
    "name": "ipython",
    "version": 3
   },
   "file_extension": ".py",
   "mimetype": "text/x-python",
   "name": "python",
   "nbconvert_exporter": "python",
   "pygments_lexer": "ipython3",
   "version": "3.7.9"
  },
  "orig_nbformat": 4
 },
 "nbformat": 4,
 "nbformat_minor": 2
}